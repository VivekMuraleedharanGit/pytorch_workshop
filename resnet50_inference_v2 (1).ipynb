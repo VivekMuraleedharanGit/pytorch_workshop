{
 "cells": [
  {
   "cell_type": "markdown",
   "metadata": {
    "tags": []
   },
   "source": [
    "# Image Classification\n",
    "\n",
    "<table><tr><td><img src='dataset/1/ILSVRC2012_val_00017995.JPEG'></td><td><img src='dataset/1/ILSVRC2012_val_00024235.JPEG'></td><td><img src='dataset/1/ILSVRC2012_val_00048969.JPEG'></td></tr><tr><td><img src='dataset/2/ILSVRC2012_val_00030520.JPEG'></td><td><img src='dataset/3/ILSVRC2012_val_00025647.JPEG'></td><td><img src='dataset/3/ILSVRC2012_val_00032595.JPEG'></td></tr></table>"
   ]
  },
  {
   "cell_type": "code",
   "execution_count": 31,
   "metadata": {},
   "outputs": [],
   "source": [
    "%matplotlib inline\n",
    "\n",
    "import torch\n",
    "import torch.nn as nn\n",
    "import torch.utils.data as Data\n",
    "import torchvision\n",
    "import intel_pytorch_extension as ipex\n",
    "import time\n",
    "import matplotlib.pyplot as plt\n",
    "\n",
    "DATA='/home/u48334/AI_analytics/dataset'\n",
    "torch.manual_seed(10)\n",
    "\n",
    "def run(IPEX):\n",
    "    bs = 3\n",
    "    transform = torchvision.transforms.Compose([\n",
    "        torchvision.transforms.Resize((500, 400)),\n",
    "        torchvision.transforms.ToTensor(),\n",
    "        torchvision.transforms.Normalize(mean=[0.485, 0.456, 0.406], std=[0.229, 0.224, 0.225])\n",
    "    ])\n",
    "\n",
    "    dataset = torchvision.datasets.ImageFolder(\n",
    "            root=DATA,\n",
    "            transform=transform,\n",
    "    )\n",
    "    loader = Data.DataLoader(\n",
    "            dataset=dataset,\n",
    "            batch_size=bs\n",
    "    )\n",
    "\n",
    "    net = torchvision.models.resnet50(pretrained=True)\n",
    "    net.eval()\n",
    "    if IPEX:\n",
    "        net = net.to(ipex.DEVICE)\n",
    "    num = 0\n",
    "    dur_sum = 0\n",
    "    index = 0\n",
    "    with torch.no_grad():\n",
    "        for data, target in loader:\n",
    "            if IPEX:\n",
    "                data = data.to(ipex.DEVICE)\n",
    "            for _ in range(10):\n",
    "                net(data)\n",
    "            t0 = time.time()\n",
    "            for _ in range(10):\n",
    "                net(data)\n",
    "            t1 = time.time()\n",
    "            output = net(data)\n",
    "            _, id_max = torch.max(output, 1)\n",
    "            for i in range(bs):\n",
    "                print('{}/{}: {}'.format(index//bs, len(loader), id_max[i]))\n",
    "            dur_sum += (t1 - t0)/10\n",
    "            num += data.size()[0]\n",
    "            index += bs\n",
    "            #break\n",
    "    return dur_sum/num*1000."
   ]
  },
  {
   "cell_type": "code",
   "execution_count": 32,
   "metadata": {},
   "outputs": [
    {
     "name": "stdout",
     "output_type": "stream",
     "text": [
      "pytorch version: 1.7.0a0+e85d494\n",
      "ipex version：   1.2.0\n",
      "Inference with normal PyTorch\n",
      "0.0/2: 0\n",
      "0.0/2: 0\n",
      "0.0/2: 0\n",
      "1.0/2: 336\n",
      "1.0/2: 511\n",
      "1.0/2: 511\n",
      "Inference with Intel Extension for PyTorch (IPEX)\n",
      "0.0/2: 0\n",
      "0.0/2: 0\n",
      "0.0/2: 0\n",
      "1.0/2: 336\n",
      "1.0/2: 511\n",
      "1.0/2: 511\n",
      "Elapsed time (normal): 164.64ms\n",
      "Elapsed time (ipex):   76.85ms\n",
      "IPEX achieved 53.32% better performance comparing to normal PyTorch\n"
     ]
    },
    {
     "data": {
      "text/plain": [
       "<BarContainer object of 2 artists>"
      ]
     },
     "execution_count": 32,
     "metadata": {},
     "output_type": "execute_result"
    },
    {
     "data": {
      "image/png": "[encoded data removed]",
      "text/plain": [
       "<Figure size 432x288 with 1 Axes>"
      ]
     },
     "metadata": {
      "needs_background": "light"
     },
     "output_type": "display_data"
    }
   ],
   "source": [
    "print(\"pytorch version: {}\".format(torch.__version__))\n",
    "print(\"ipex version：   {}\".format(ipex.__version__))\n",
    "print(\"Inference with normal PyTorch\")\n",
    "dur_n = run(False)\n",
    "print(\"Inference with Intel Extension for PyTorch (IPEX)\")\n",
    "dur_i = run(True)\n",
    "print('Elapsed time (normal): {:.2f}ms'.format(dur_n))\n",
    "print('Elapsed time (ipex):   {:.2f}ms'.format(dur_i))\n",
    "print('IPEX achieved {:.2f}% better performance comparing to normal PyTorch'.format((dur_n-dur_i)/dur_n*100.))\n",
    "\n",
    "plt.bar([\"normal\", \"ipex\"], [dur_n, dur_i], width=0.5)"
   ]
  }
 ],
 "metadata": {
  "kernelspec": {
   "display_name": "PyTorch 1.4.0 (AI kit)",
   "language": "python",
   "name": "c009-intel_distribution_of_python_3_oneapi-beta05-pytorch"
  },
  "language_info": {
   "codemirror_mode": {
    "name": "ipython",
    "version": 3
   },
   "file_extension": ".py",
   "mimetype": "text/x-python",
   "name": "python",
   "nbconvert_exporter": "python",
   "pygments_lexer": "ipython3",
   "version": "3.7.10"
  },
  "nbTranslate": {
   "displayLangs": [
    "*"
   ],
   "hotkey": "alt-t",
   "langInMainMenu": true,
   "sourceLang": "en",
   "targetLang": "fr",
   "useGoogleTranslate": true
  },
  "toc": {
   "base_numbering": 1,
   "nav_menu": {},
   "number_sections": true,
   "sideBar": true,
   "skip_h1_title": false,
   "title_cell": "Table of Contents",
   "title_sidebar": "Contents",
   "toc_cell": false,
   "toc_position": {},
   "toc_section_display": true,
   "toc_window_display": false
  }
 },
 "nbformat": 4,
 "nbformat_minor": 4
}
